{
 "cells": [
  {
   "cell_type": "code",
   "execution_count": null,
   "id": "fca31c0e",
   "metadata": {},
   "outputs": [],
   "source": [
    "import pandas as pd\n",
    "import numpy as np\n",
    "from Levenshtein import *\n",
    "import csv\n",
    "import os\n",
    "import glob\n",
    "import xlsxwriter\n",
    "\n"
   ]
  },
  {
   "cell_type": "markdown",
   "id": "6963da74",
   "metadata": {},
   "source": [
    "Read all the txt file generated from step 2 "
   ]
  },
  {
   "cell_type": "code",
   "execution_count": null,
   "id": "817e59f4",
   "metadata": {},
   "outputs": [],
   "source": [
    "# this path is where I stored the txt files\n",
    "path = '/Users/double-c/Desktop/new_program'\n",
    "extension = 'txt'\n",
    "os.chdir(path)\n",
    "txt_list = glob.glob('*.{}'.format(extension))\n",
    "txt_list.sort()\n",
    "txt_list"
   ]
  },
  {
   "cell_type": "markdown",
   "id": "dca4fbe3",
   "metadata": {},
   "source": [
    "calculate transition percentage for each txt file and write the result into one excel sheet for future analysis"
   ]
  },
  {
   "cell_type": "code",
   "execution_count": null,
   "id": "9fed0010",
   "metadata": {},
   "outputs": [],
   "source": [
    "sall = pd.Series([])\n",
    "\n",
    "for i in txt_list:\n",
    "    df = np.loadtxt(i, dtype=int)\n",
    "\n",
    "    df_fla=df.flatten()\n",
    "    num_percentage = [round(i/df_fla.sum(),3) for i in df_fla]\n",
    "    \n",
    "    s2= pd.Series(num_percentage)\n",
    "    sall=  pd.concat((sall, s2), axis=1)\n",
    "    #index = ['aa','ab','ac','ad','ba','bb','bc','bd','ca','cb','cc','cd','da','db','dc','dd']\n",
    "    print(i)\n",
    "    \n",
    "df=sall.T\n",
    "df = df.loc[1:]\n",
    "df.index = txt_list\n",
    "df.columns= ['aa','ab','ac','ad','ba','bb','bc','bd','ca','cb','cc','cd','da','db','dc','dd'] \n",
    "\n",
    "df"
   ]
  },
  {
   "cell_type": "markdown",
   "id": "ed8e1e6f",
   "metadata": {},
   "source": [
    "Export the excel sheet out"
   ]
  },
  {
   "cell_type": "code",
   "execution_count": null,
   "id": "1e264327",
   "metadata": {},
   "outputs": [],
   "source": [
    "df.to_excel(\"transtionresult.xlsx\", index=True)"
   ]
  },
  {
   "cell_type": "code",
   "execution_count": null,
   "id": "3e296ca4",
   "metadata": {},
   "outputs": [],
   "source": []
  }
 ],
 "metadata": {
  "kernelspec": {
   "display_name": "Python 3",
   "language": "python",
   "name": "python3"
  },
  "language_info": {
   "codemirror_mode": {
    "name": "ipython",
    "version": 3
   },
   "file_extension": ".py",
   "mimetype": "text/x-python",
   "name": "python",
   "nbconvert_exporter": "python",
   "pygments_lexer": "ipython3",
   "version": "3.8.8"
  }
 },
 "nbformat": 4,
 "nbformat_minor": 5
}
