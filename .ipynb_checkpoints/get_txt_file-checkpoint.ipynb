{
 "cells": [
  {
   "cell_type": "code",
   "execution_count": null,
   "id": "bb0d9f1d",
   "metadata": {},
   "outputs": [],
   "source": [
    "\n",
    "import pandas as pd\n",
    "import numpy as np\n",
    "from Levenshtein import *\n",
    "import csv\n",
    "import os\n",
    "import glob\n",
    "import xlsxwriter\n",
    "\n",
    "\n"
   ]
  },
  {
   "cell_type": "markdown",
   "id": "c7ecc21a",
   "metadata": {},
   "source": [
    "Read the excel sheet generated from step 1"
   ]
  },
  {
   "cell_type": "code",
   "execution_count": null,
   "id": "e9efe77c",
   "metadata": {
    "scrolled": true
   },
   "outputs": [],
   "source": [
    "# this is the excel sheet which stored all the participants scanpath data\n",
    "df = pd.read_excel('49participants.xlsx')\n",
    "\n",
    "\n"
   ]
  },
  {
   "cell_type": "markdown",
   "id": "193522c8",
   "metadata": {},
   "source": [
    "Calculate transition matirx for each scanpath and output a txt file"
   ]
  },
  {
   "cell_type": "code",
   "execution_count": null,
   "id": "e05cadc3",
   "metadata": {
    "scrolled": true
   },
   "outputs": [],
   "source": [
    "def rank(c):\n",
    "    return ord(c) - ord('A')\n",
    "index=0\n",
    "\n",
    "for perstring in df['shortchar_P03']:\n",
    "    stringlist= []\n",
    "    name=df['ParticipantName'][index]\n",
    "    for i in perstring:\n",
    "        stringlist.append(i.upper())\n",
    "    \n",
    "\n",
    "    T = [rank(c) for c in stringlist]\n",
    "    \n",
    "#create matrix of zeros\n",
    "\n",
    "    M = [[0]*4 for _ in range(4)]\n",
    "\n",
    "    for (i,j) in zip(T,T[1:]):\n",
    "        M[i][j] += 1\n",
    "   \n",
    "    da = pd.DataFrame(M)\n",
    "    \n",
    "    da.to_csv(name+ '.txt', header=None, index=None, sep=' ', mode='a')\n",
    "    index+=1\n",
    "    \n",
    "   \n",
    "                 \n"
   ]
  },
  {
   "cell_type": "code",
   "execution_count": null,
   "id": "b700eca4",
   "metadata": {},
   "outputs": [],
   "source": []
  },
  {
   "cell_type": "code",
   "execution_count": null,
   "id": "b6db74f8",
   "metadata": {},
   "outputs": [],
   "source": []
  }
 ],
 "metadata": {
  "kernelspec": {
   "display_name": "Python 3",
   "language": "python",
   "name": "python3"
  },
  "language_info": {
   "codemirror_mode": {
    "name": "ipython",
    "version": 3
   },
   "file_extension": ".py",
   "mimetype": "text/x-python",
   "name": "python",
   "nbconvert_exporter": "python",
   "pygments_lexer": "ipython3",
   "version": "3.8.8"
  }
 },
 "nbformat": 4,
 "nbformat_minor": 5
}
