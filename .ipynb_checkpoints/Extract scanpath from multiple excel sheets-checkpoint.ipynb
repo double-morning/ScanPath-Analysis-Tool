{
 "cells": [
  {
   "cell_type": "code",
   "execution_count": 1,
   "id": "ce7b1cc3",
   "metadata": {},
   "outputs": [],
   "source": [
    "import pandas as pd\n",
    "import numpy as np\n",
    "from Levenshtein import *\n",
    "import csv\n",
    "import os\n",
    "import glob\n",
    "import xlsxwriter\n"
   ]
  },
  {
   "cell_type": "markdown",
   "id": "f74f7dd2",
   "metadata": {},
   "source": [
    "# Define the AOI in your study "
   ]
  },
  {
   "cell_type": "code",
   "execution_count": 6,
   "id": "4505dfa1",
   "metadata": {},
   "outputs": [],
   "source": [
    "#Please input your AOI name here\n",
    "#In the test file, the AOI name as follows\n",
    "\n",
    "AOI1= 'AOI hit [Folie4 - Pre3_N1]'\n",
    "AOI2= 'AOI hit [Folie4 - Pre3_N2]'\n",
    "AOI3='AOI hit [Folie4 - Pre3_N3]'\n",
    "AOI4= 'AOI hit [Folie4 - Pre3_N4]'\n",
    "\n",
    "#Please input the location where to stored your excels sheet.\n",
    "#This is where I have stored my excel sheets\n",
    "\n",
    "path='/Users/double-c/Desktop/Hiwi/wiss/Pre/Pre_03'\n",
    "\n",
    "#This step is to define the \"Fixation data\" in scanpath and filter out the iunrelated data\n",
    "\n",
    "def givevalue(row):\n",
    "    if ((row[AOI1] ==1.0) & (row[AOI2] ==0.0) & (row[AOI3]==0.0) & (row[AOI4]==0.0)):\n",
    "        return 'a'\n",
    "    elif ((row[AOI1] ==0.0) & (row[AOI2] ==1.0) & (row[AOI3]==0.0) & (row[AOI4]==0.0)):\n",
    "        return 'b'\n",
    "    elif ((row[AOI1] ==0.0) & (row[AOI2] ==0.0) & (row[AOI3]==1.0) & (row[AOI4]==0.0)):\n",
    "        return 'c'\n",
    "    elif ((row[AOI1] ==0.0) & (row[AOI2] ==0.0) & (row[AOI3]==0.0) & (row[AOI4]==1.0)):\n",
    "        return 'd'"
   ]
  },
  {
   "cell_type": "markdown",
   "id": "4fc83c29",
   "metadata": {},
   "source": [
    "# Read all the excel sheets and calculte and output the scanpath "
   ]
  },
  {
   "cell_type": "code",
   "execution_count": 4,
   "id": "cec6a72c",
   "metadata": {},
   "outputs": [],
   "source": [
    "extension = 'xlsx'\n",
    "os.chdir(path)\n",
    "excel_list1 = glob.glob('*.{}'.format(extension))\n",
    "\n",
    "original_char = []\n",
    "\n",
    "for file in excel_list1:\n",
    "    da = pd.read_excel(file)\n",
    "\n",
    "    keep = ['Eye movement type index',AOI1, AOI2,\n",
    "          AOI3, AOI4]\n",
    "    \n",
    "    mydata= da[keep]\n",
    "    \n",
    "    mydata= mydata.drop_duplicates()\n",
    "   \n",
    "    condition1= mydata[AOI1].notna()\n",
    "    df= mydata[condition1]  \n",
    "    \n",
    "  \n",
    "    mylist=df.apply(lambda row: givevalue(row),axis=1)\n",
    "   \n",
    "    char=''\n",
    "\n",
    "    for i in mylist:\n",
    "        if (i=='a') | (i=='b')| (i=='c')|(i=='d'):\n",
    "            char = char+ i\n",
    "            \n",
    "    original_char.append(char)\n"
   ]
  },
  {
   "cell_type": "markdown",
   "id": "3c948a4f",
   "metadata": {},
   "source": [
    "# Write all the scanapth result into a excel for future data analysis"
   ]
  },
  {
   "cell_type": "code",
   "execution_count": 9,
   "id": "807b4f78",
   "metadata": {},
   "outputs": [],
   "source": [
    "outWorkbook = xlsxwriter.Workbook('P03.xlsx')\n",
    "outSheet = outWorkbook.add_worksheet()\n",
    "\n",
    "outSheet.write('A1','Names')\n",
    "outSheet.write('B1','Originalchar_P02')\n",
    "outSheet.write('C1','shortchar_P02')\n",
    "#outSheet.write('D1','capitalchar_video1.1')\n",
    "\n",
    "for item in range(len(excel_list1)):\n",
    "    \n",
    "    \n",
    "    outSheet.write(item+1,0,excel_list1[item])\n",
    "    outSheet.write(item+1,1,original_char[item])\n",
    "    \n",
    "    outSheet.write(item+1,2,short_char[item])\n",
    "#outSheet.write(item+1,3,capitalchars[item])\n",
    "    \n",
    "        \n",
    "                   \n",
    "outWorkbook.close()"
   ]
  },
  {
   "cell_type": "code",
   "execution_count": null,
   "id": "5c89843a",
   "metadata": {},
   "outputs": [],
   "source": []
  }
 ],
 "metadata": {
  "kernelspec": {
   "display_name": "Python 3",
   "language": "python",
   "name": "python3"
  },
  "language_info": {
   "codemirror_mode": {
    "name": "ipython",
    "version": 3
   },
   "file_extension": ".py",
   "mimetype": "text/x-python",
   "name": "python",
   "nbconvert_exporter": "python",
   "pygments_lexer": "ipython3",
   "version": "3.8.8"
  }
 },
 "nbformat": 4,
 "nbformat_minor": 5
}
