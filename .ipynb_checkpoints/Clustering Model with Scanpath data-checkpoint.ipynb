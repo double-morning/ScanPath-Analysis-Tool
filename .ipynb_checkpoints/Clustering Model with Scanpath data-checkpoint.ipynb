{
 "cells": [
  {
   "cell_type": "markdown",
   "id": "262c01b8",
   "metadata": {},
   "source": [
    "# Agglomerative Clustering Model"
   ]
  },
  {
   "cell_type": "code",
   "execution_count": null,
   "id": "deee7746",
   "metadata": {},
   "outputs": [],
   "source": [
    "from sklearn.datasets import make_blobs\n",
    "from sklearn.cluster import AgglomerativeClustering\n",
    "\n",
    "X = Matrix\n",
    "cls = AgglomerativeClustering(n_clusters = 2,linkage = 'ward')\n",
    "cls_assignment = cls.fit_predict(X)\n",
    "hierarchical_result =\n",
    "pd.DataFrame({'hierarchical_result':cls_assignment},index = csvlist)\n",
    "hierarchical_result"
   ]
  },
  {
   "cell_type": "markdown",
   "id": "73f7e83f",
   "metadata": {},
   "source": [
    "# K-Means Clustering Model"
   ]
  },
  {
   "cell_type": "code",
   "execution_count": null,
   "id": "3a4f2569",
   "metadata": {},
   "outputs": [],
   "source": [
    "from sklearn.cluster import KMeans\n",
    "\n",
    "km = KMeans(\n",
    "    n_clusters=2, init='random',\n",
    "    n_init=10, max_iter=300,\n",
    "    tol=1e-04, random_state=0\n",
    ")\n",
    "\n",
    "y_km = km.fit_predict(X)\n",
    "\n",
    "y_km_result = pd.DataFrame({'k_means_prediction':y_km,'Participant' :\n",
    "allname})\n",
    "y_km_result= y_km_result.set_index('Participant')\n",
    "\n",
    "y_da = pd.DataFrame({'real_result':y,'Participant' : allname})\n",
    "y_da = y_da.set_index('Participant')\n",
    "\n",
    "\n",
    "com_data = pd.merge(y_km_result,y_da,on='Participant')\n"
   ]
  }
 ],
 "metadata": {
  "kernelspec": {
   "display_name": "Python 3",
   "language": "python",
   "name": "python3"
  },
  "language_info": {
   "codemirror_mode": {
    "name": "ipython",
    "version": 3
   },
   "file_extension": ".py",
   "mimetype": "text/x-python",
   "name": "python",
   "nbconvert_exporter": "python",
   "pygments_lexer": "ipython3",
   "version": "3.8.8"
  }
 },
 "nbformat": 4,
 "nbformat_minor": 5
}
