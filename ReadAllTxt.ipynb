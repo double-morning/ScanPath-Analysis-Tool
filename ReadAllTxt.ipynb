{
 "cells": [
  {
   "cell_type": "code",
   "execution_count": 1,
   "id": "fca31c0e",
   "metadata": {},
   "outputs": [],
   "source": [
    "%matplotlib inline\n",
    "import matplotlib.pyplot as plt\n",
    "import seaborn as sns\n",
    "import pandas as pd\n",
    "import numpy as np\n",
    "from Levenshtein import *\n",
    "import csv\n",
    "import os\n",
    "import glob\n",
    "import xlsxwriter\n",
    "\n"
   ]
  },
  {
   "cell_type": "code",
   "execution_count": 2,
   "id": "817e59f4",
   "metadata": {},
   "outputs": [
    {
     "data": {
      "text/plain": [
       "['ANJAGR05.txt',\n",
       " 'ASMÄBA10.txt',\n",
       " 'BAMÄAN05.txt',\n",
       " 'BEMASA05.txt',\n",
       " 'BINOGA03.txt',\n",
       " 'BRJAEI05.txt',\n",
       " 'CHMANA04.txt',\n",
       " 'CLFEWA04.txt',\n",
       " 'CLNOB005.txt',\n",
       " 'DAOKRI04.txt',\n",
       " 'DASEHÜ05.txt',\n",
       " 'ELEEMA04.txt',\n",
       " 'EVJUHO05.txt',\n",
       " 'HEAUWI05.txt',\n",
       " 'HEOKMA06.txt',\n",
       " 'INAUFR06.txt',\n",
       " 'INDEBL05.txt',\n",
       " 'INMÄSC09.txt',\n",
       " 'INPIPA05.txt',\n",
       " 'IRAUMA08.txt',\n",
       " 'ISFEPE03.txt',\n",
       " 'JAAUGR07.txt',\n",
       " 'JASEIM11.txt',\n",
       " 'JOSEMA05.txt',\n",
       " 'JUAUSA05.txt',\n",
       " 'KAMAH008.txt',\n",
       " 'KANADO09.txt',\n",
       " 'KEDEHE08.txt',\n",
       " 'KEMASC06.txt',\n",
       " 'KIJUUR05.txt',\n",
       " 'LUAUDR06.txt',\n",
       " 'MADEER06.txt',\n",
       " 'MADEWA05.txt',\n",
       " 'MAJUPA06.txt',\n",
       " 'MEMÄAN07.txt',\n",
       " 'PAMAZU08.txt',\n",
       " 'REFEBO04.txt',\n",
       " 'ROAUCH06.txt',\n",
       " 'ROAURI08.txt',\n",
       " 'RUJUST08.txt',\n",
       " 'SIJUCA07.txt',\n",
       " 'SIMAKA03.txt',\n",
       " 'SOAUBL06.txt',\n",
       " 'SYAPBA07.txt',\n",
       " 'TANOBL06.txt',\n",
       " 'TAOKCAO6.txt',\n",
       " 'TIDEKI05.txt',\n",
       " 'ULDESC04.txt']"
      ]
     },
     "execution_count": 2,
     "metadata": {},
     "output_type": "execute_result"
    }
   ],
   "source": [
    "path = '/Users/double-c/Desktop/new_program'\n",
    "extension = 'txt'\n",
    "os.chdir(path)\n",
    "txt_list = glob.glob('*.{}'.format(extension))\n",
    "txt_list.sort()\n",
    "txt_list"
   ]
  },
  {
   "cell_type": "code",
   "execution_count": 4,
   "id": "9fed0010",
   "metadata": {},
   "outputs": [
    {
     "name": "stdout",
     "output_type": "stream",
     "text": [
      "ANJAGR05.txt\n",
      "ASMÄBA10.txt\n",
      "BAMÄAN05.txt\n",
      "BEMASA05.txt\n",
      "BINOGA03.txt\n",
      "BRJAEI05.txt\n",
      "CHMANA04.txt\n",
      "CLFEWA04.txt\n",
      "CLNOB005.txt\n",
      "DAOKRI04.txt\n",
      "DASEHÜ05.txt\n",
      "ELEEMA04.txt\n",
      "EVJUHO05.txt\n",
      "HEAUWI05.txt\n",
      "HEOKMA06.txt\n",
      "INAUFR06.txt\n",
      "INDEBL05.txt\n",
      "INMÄSC09.txt\n",
      "INPIPA05.txt\n",
      "IRAUMA08.txt\n",
      "ISFEPE03.txt\n",
      "JAAUGR07.txt\n",
      "JASEIM11.txt\n",
      "JOSEMA05.txt\n",
      "JUAUSA05.txt\n",
      "KAMAH008.txt\n",
      "KANADO09.txt\n",
      "KEDEHE08.txt\n",
      "KEMASC06.txt\n",
      "KIJUUR05.txt\n",
      "LUAUDR06.txt\n",
      "MADEER06.txt\n",
      "MADEWA05.txt\n",
      "MAJUPA06.txt\n",
      "MEMÄAN07.txt\n",
      "PAMAZU08.txt\n",
      "REFEBO04.txt\n",
      "ROAUCH06.txt\n",
      "ROAURI08.txt\n",
      "RUJUST08.txt\n",
      "SIJUCA07.txt\n",
      "SIMAKA03.txt\n",
      "SOAUBL06.txt\n",
      "SYAPBA07.txt\n",
      "TANOBL06.txt\n",
      "TAOKCAO6.txt\n",
      "TIDEKI05.txt\n",
      "ULDESC04.txt\n"
     ]
    },
    {
     "name": "stderr",
     "output_type": "stream",
     "text": [
      "<ipython-input-4-41d75ea5aa62>:1: DeprecationWarning: The default dtype for empty Series will be 'object' instead of 'float64' in a future version. Specify a dtype explicitly to silence this warning.\n",
      "  sall = pd.Series([])\n"
     ]
    },
    {
     "ename": "ValueError",
     "evalue": "Length mismatch: Expected axis has 32 elements, new values have 16 elements",
     "output_type": "error",
     "traceback": [
      "\u001b[0;31m---------------------------------------------------------------------------\u001b[0m",
      "\u001b[0;31mValueError\u001b[0m                                Traceback (most recent call last)",
      "\u001b[0;32m<ipython-input-4-41d75ea5aa62>\u001b[0m in \u001b[0;36m<module>\u001b[0;34m\u001b[0m\n\u001b[1;32m     15\u001b[0m \u001b[0mdf\u001b[0m \u001b[0;34m=\u001b[0m \u001b[0mdf\u001b[0m\u001b[0;34m.\u001b[0m\u001b[0mloc\u001b[0m\u001b[0;34m[\u001b[0m\u001b[0;36m1\u001b[0m\u001b[0;34m:\u001b[0m\u001b[0;34m]\u001b[0m\u001b[0;34m\u001b[0m\u001b[0;34m\u001b[0m\u001b[0m\n\u001b[1;32m     16\u001b[0m \u001b[0mdf\u001b[0m\u001b[0;34m.\u001b[0m\u001b[0mindex\u001b[0m \u001b[0;34m=\u001b[0m \u001b[0mtxt_list\u001b[0m\u001b[0;34m\u001b[0m\u001b[0;34m\u001b[0m\u001b[0m\n\u001b[0;32m---> 17\u001b[0;31m \u001b[0mdf\u001b[0m\u001b[0;34m.\u001b[0m\u001b[0mcolumns\u001b[0m\u001b[0;34m=\u001b[0m \u001b[0;34m[\u001b[0m\u001b[0;34m'aa'\u001b[0m\u001b[0;34m,\u001b[0m\u001b[0;34m'ab'\u001b[0m\u001b[0;34m,\u001b[0m\u001b[0;34m'ac'\u001b[0m\u001b[0;34m,\u001b[0m\u001b[0;34m'ad'\u001b[0m\u001b[0;34m,\u001b[0m\u001b[0;34m'ba'\u001b[0m\u001b[0;34m,\u001b[0m\u001b[0;34m'bb'\u001b[0m\u001b[0;34m,\u001b[0m\u001b[0;34m'bc'\u001b[0m\u001b[0;34m,\u001b[0m\u001b[0;34m'bd'\u001b[0m\u001b[0;34m,\u001b[0m\u001b[0;34m'ca'\u001b[0m\u001b[0;34m,\u001b[0m\u001b[0;34m'cb'\u001b[0m\u001b[0;34m,\u001b[0m\u001b[0;34m'cc'\u001b[0m\u001b[0;34m,\u001b[0m\u001b[0;34m'cd'\u001b[0m\u001b[0;34m,\u001b[0m\u001b[0;34m'da'\u001b[0m\u001b[0;34m,\u001b[0m\u001b[0;34m'db'\u001b[0m\u001b[0;34m,\u001b[0m\u001b[0;34m'dc'\u001b[0m\u001b[0;34m,\u001b[0m\u001b[0;34m'dd'\u001b[0m\u001b[0;34m]\u001b[0m\u001b[0;34m\u001b[0m\u001b[0;34m\u001b[0m\u001b[0m\n\u001b[0m\u001b[1;32m     18\u001b[0m \u001b[0;34m\u001b[0m\u001b[0m\n\u001b[1;32m     19\u001b[0m \u001b[0mdf\u001b[0m\u001b[0;34m\u001b[0m\u001b[0;34m\u001b[0m\u001b[0m\n",
      "\u001b[0;32m~/opt/anaconda3/lib/python3.8/site-packages/pandas/core/generic.py\u001b[0m in \u001b[0;36m__setattr__\u001b[0;34m(self, name, value)\u001b[0m\n\u001b[1;32m   5476\u001b[0m         \u001b[0;32mtry\u001b[0m\u001b[0;34m:\u001b[0m\u001b[0;34m\u001b[0m\u001b[0;34m\u001b[0m\u001b[0m\n\u001b[1;32m   5477\u001b[0m             \u001b[0mobject\u001b[0m\u001b[0;34m.\u001b[0m\u001b[0m__getattribute__\u001b[0m\u001b[0;34m(\u001b[0m\u001b[0mself\u001b[0m\u001b[0;34m,\u001b[0m \u001b[0mname\u001b[0m\u001b[0;34m)\u001b[0m\u001b[0;34m\u001b[0m\u001b[0;34m\u001b[0m\u001b[0m\n\u001b[0;32m-> 5478\u001b[0;31m             \u001b[0;32mreturn\u001b[0m \u001b[0mobject\u001b[0m\u001b[0;34m.\u001b[0m\u001b[0m__setattr__\u001b[0m\u001b[0;34m(\u001b[0m\u001b[0mself\u001b[0m\u001b[0;34m,\u001b[0m \u001b[0mname\u001b[0m\u001b[0;34m,\u001b[0m \u001b[0mvalue\u001b[0m\u001b[0;34m)\u001b[0m\u001b[0;34m\u001b[0m\u001b[0;34m\u001b[0m\u001b[0m\n\u001b[0m\u001b[1;32m   5479\u001b[0m         \u001b[0;32mexcept\u001b[0m \u001b[0mAttributeError\u001b[0m\u001b[0;34m:\u001b[0m\u001b[0;34m\u001b[0m\u001b[0;34m\u001b[0m\u001b[0m\n\u001b[1;32m   5480\u001b[0m             \u001b[0;32mpass\u001b[0m\u001b[0;34m\u001b[0m\u001b[0;34m\u001b[0m\u001b[0m\n",
      "\u001b[0;32mpandas/_libs/properties.pyx\u001b[0m in \u001b[0;36mpandas._libs.properties.AxisProperty.__set__\u001b[0;34m()\u001b[0m\n",
      "\u001b[0;32m~/opt/anaconda3/lib/python3.8/site-packages/pandas/core/generic.py\u001b[0m in \u001b[0;36m_set_axis\u001b[0;34m(self, axis, labels)\u001b[0m\n\u001b[1;32m    668\u001b[0m     \u001b[0;32mdef\u001b[0m \u001b[0m_set_axis\u001b[0m\u001b[0;34m(\u001b[0m\u001b[0mself\u001b[0m\u001b[0;34m,\u001b[0m \u001b[0maxis\u001b[0m\u001b[0;34m:\u001b[0m \u001b[0mint\u001b[0m\u001b[0;34m,\u001b[0m \u001b[0mlabels\u001b[0m\u001b[0;34m:\u001b[0m \u001b[0mIndex\u001b[0m\u001b[0;34m)\u001b[0m \u001b[0;34m->\u001b[0m \u001b[0;32mNone\u001b[0m\u001b[0;34m:\u001b[0m\u001b[0;34m\u001b[0m\u001b[0;34m\u001b[0m\u001b[0m\n\u001b[1;32m    669\u001b[0m         \u001b[0mlabels\u001b[0m \u001b[0;34m=\u001b[0m \u001b[0mensure_index\u001b[0m\u001b[0;34m(\u001b[0m\u001b[0mlabels\u001b[0m\u001b[0;34m)\u001b[0m\u001b[0;34m\u001b[0m\u001b[0;34m\u001b[0m\u001b[0m\n\u001b[0;32m--> 670\u001b[0;31m         \u001b[0mself\u001b[0m\u001b[0;34m.\u001b[0m\u001b[0m_mgr\u001b[0m\u001b[0;34m.\u001b[0m\u001b[0mset_axis\u001b[0m\u001b[0;34m(\u001b[0m\u001b[0maxis\u001b[0m\u001b[0;34m,\u001b[0m \u001b[0mlabels\u001b[0m\u001b[0;34m)\u001b[0m\u001b[0;34m\u001b[0m\u001b[0;34m\u001b[0m\u001b[0m\n\u001b[0m\u001b[1;32m    671\u001b[0m         \u001b[0mself\u001b[0m\u001b[0;34m.\u001b[0m\u001b[0m_clear_item_cache\u001b[0m\u001b[0;34m(\u001b[0m\u001b[0;34m)\u001b[0m\u001b[0;34m\u001b[0m\u001b[0;34m\u001b[0m\u001b[0m\n\u001b[1;32m    672\u001b[0m \u001b[0;34m\u001b[0m\u001b[0m\n",
      "\u001b[0;32m~/opt/anaconda3/lib/python3.8/site-packages/pandas/core/internals/managers.py\u001b[0m in \u001b[0;36mset_axis\u001b[0;34m(self, axis, new_labels)\u001b[0m\n\u001b[1;32m    218\u001b[0m \u001b[0;34m\u001b[0m\u001b[0m\n\u001b[1;32m    219\u001b[0m         \u001b[0;32mif\u001b[0m \u001b[0mnew_len\u001b[0m \u001b[0;34m!=\u001b[0m \u001b[0mold_len\u001b[0m\u001b[0;34m:\u001b[0m\u001b[0;34m\u001b[0m\u001b[0;34m\u001b[0m\u001b[0m\n\u001b[0;32m--> 220\u001b[0;31m             raise ValueError(\n\u001b[0m\u001b[1;32m    221\u001b[0m                 \u001b[0;34mf\"Length mismatch: Expected axis has {old_len} elements, new \"\u001b[0m\u001b[0;34m\u001b[0m\u001b[0;34m\u001b[0m\u001b[0m\n\u001b[1;32m    222\u001b[0m                 \u001b[0;34mf\"values have {new_len} elements\"\u001b[0m\u001b[0;34m\u001b[0m\u001b[0;34m\u001b[0m\u001b[0m\n",
      "\u001b[0;31mValueError\u001b[0m: Length mismatch: Expected axis has 32 elements, new values have 16 elements"
     ]
    }
   ],
   "source": [
    "sall = pd.Series([])\n",
    "\n",
    "for i in txt_list:\n",
    "    df = np.loadtxt(i, dtype=int)\n",
    "\n",
    "    df_fla=df.flatten()\n",
    "    num_percentage = [round(i/df_fla.sum(),3) for i in df_fla]\n",
    "    \n",
    "    s2= pd.Series(num_percentage)\n",
    "    sall=  pd.concat((sall, s2), axis=1)\n",
    "    #index = ['aa','ab','ac','ad','ba','bb','bc','bd','ca','cb','cc','cd','da','db','dc','dd']\n",
    "    print(i)\n",
    "    \n",
    "df=sall.T\n",
    "df = df.loc[1:]\n",
    "df.index = txt_list\n",
    "df.columns= ['aa','ab','ac','ad','ba','bb','bc','bd','ca','cb','cc','cd','da','db','dc','dd'] \n",
    "\n",
    "df"
   ]
  },
  {
   "cell_type": "code",
   "execution_count": 5,
   "id": "1e264327",
   "metadata": {},
   "outputs": [],
   "source": [
    "df.to_excel(\"transtionresult.xlsx\", index=True)"
   ]
  },
  {
   "cell_type": "code",
   "execution_count": null,
   "id": "3e296ca4",
   "metadata": {},
   "outputs": [],
   "source": []
  }
 ],
 "metadata": {
  "kernelspec": {
   "display_name": "Python 3",
   "language": "python",
   "name": "python3"
  },
  "language_info": {
   "codemirror_mode": {
    "name": "ipython",
    "version": 3
   },
   "file_extension": ".py",
   "mimetype": "text/x-python",
   "name": "python",
   "nbconvert_exporter": "python",
   "pygments_lexer": "ipython3",
   "version": "3.8.8"
  }
 },
 "nbformat": 4,
 "nbformat_minor": 5
}
