{
 "cells": [
  {
   "cell_type": "code",
   "execution_count": 1,
   "id": "ce7b1cc3",
   "metadata": {},
   "outputs": [],
   "source": [
    "import matplotlib.pyplot as plt\n",
    "import seaborn as sns\n",
    "import pandas as pd\n",
    "import numpy as np\n",
    "from Levenshtein import *\n",
    "import csv\n",
    "import os\n",
    "import glob\n",
    "import xlsxwriter\n",
    "\n",
    "\n"
   ]
  },
  {
   "cell_type": "code",
   "execution_count": 6,
   "id": "4505dfa1",
   "metadata": {},
   "outputs": [],
   "source": [
    "AOI1= 'AOI hit [Folie4 - Pre3_N1]'\n",
    "AOI2= 'AOI hit [Folie4 - Pre3_N2]'\n",
    "AOI3='AOI hit [Folie4 - Pre3_N3]'\n",
    "AOI4= 'AOI hit [Folie4 - Pre3_N4]'\n",
    "\n",
    "def givevalue(row):\n",
    "    if ((row[AOI1] ==1.0) & (row[AOI2] ==0.0) & (row[AOI3]==0.0) & (row[AOI4]==0.0)):\n",
    "        return 'a'\n",
    "    elif ((row[AOI1] ==0.0) & (row[AOI2] ==1.0) & (row[AOI3]==0.0) & (row[AOI4]==0.0)):\n",
    "        return 'b'\n",
    "    elif ((row[AOI1] ==0.0) & (row[AOI2] ==0.0) & (row[AOI3]==1.0) & (row[AOI4]==0.0)):\n",
    "        return 'c'\n",
    "    elif ((row[AOI1] ==0.0) & (row[AOI2] ==0.0) & (row[AOI3]==0.0) & (row[AOI4]==1.0)):\n",
    "        return 'd'\n",
    "    "
   ]
  },
  {
   "cell_type": "code",
   "execution_count": 3,
   "id": "63f6d343",
   "metadata": {},
   "outputs": [],
   "source": [
    "path='/Users/double-c/Desktop/Hiwi/wiss/Pre/Pre_03'"
   ]
  },
  {
   "cell_type": "code",
   "execution_count": 4,
   "id": "cec6a72c",
   "metadata": {},
   "outputs": [],
   "source": [
    "extension = 'xlsx'\n",
    "os.chdir(path)\n",
    "excel_list1 = glob.glob('*.{}'.format(extension))\n",
    "\n",
    "original_char = []\n"
   ]
  },
  {
   "cell_type": "code",
   "execution_count": 7,
   "id": "a50cd2ec",
   "metadata": {},
   "outputs": [],
   "source": [
    "for file in excel_list1:\n",
    "    da = pd.read_excel(file)\n",
    "\n",
    "    keep = ['Eye movement type index',AOI1, AOI2,\n",
    "          AOI3, AOI4]\n",
    "    \n",
    "    mydata= da[keep]\n",
    "    \n",
    "    mydata= mydata.drop_duplicates()\n",
    "   \n",
    "    condition1= mydata[AOI1].notna()\n",
    "    df= mydata[condition1]  \n",
    "    \n",
    "  \n",
    "    mylist=df.apply(lambda row: givevalue(row),axis=1)\n",
    "   \n",
    "    char=''\n",
    "\n",
    "    for i in mylist:\n",
    "        if (i=='a') | (i=='b')| (i=='c')|(i=='d'):\n",
    "            char = char+ i\n",
    "            \n",
    "    original_char.append(char)\n",
    "  "
   ]
  },
  {
   "cell_type": "code",
   "execution_count": 8,
   "id": "2c58aeb5",
   "metadata": {},
   "outputs": [],
   "source": [
    "#original_char is a list\n",
    "short_char=[]\n",
    "for eachchar in original_char:\n",
    "    char='x'\n",
    "    for i in eachchar:\n",
    "        if i != char[-1]:\n",
    "            char= char + i\n",
    "\n",
    "    char = char[1:]\n",
    "    short_char.append(char)\n",
    "\n",
    "\n",
    "\n",
    "\n"
   ]
  },
  {
   "cell_type": "code",
   "execution_count": 9,
   "id": "807b4f78",
   "metadata": {},
   "outputs": [],
   "source": [
    "outWorkbook = xlsxwriter.Workbook('P03.xlsx')\n",
    "outSheet = outWorkbook.add_worksheet()\n",
    "\n",
    "outSheet.write('A1','Names')\n",
    "outSheet.write('B1','Originalchar_P02')\n",
    "outSheet.write('C1','shortchar_P02')\n",
    "#outSheet.write('D1','capitalchar_video1.1')\n",
    "\n",
    "for item in range(len(excel_list1)):\n",
    "    \n",
    "    \n",
    "    outSheet.write(item+1,0,excel_list1[item])\n",
    "    outSheet.write(item+1,1,original_char[item])\n",
    "    \n",
    "    outSheet.write(item+1,2,short_char[item])\n",
    "#outSheet.write(item+1,3,capitalchars[item])\n",
    "    \n",
    "        \n",
    "                   \n",
    "outWorkbook.close()"
   ]
  },
  {
   "cell_type": "code",
   "execution_count": null,
   "id": "5c89843a",
   "metadata": {},
   "outputs": [],
   "source": []
  }
 ],
 "metadata": {
  "kernelspec": {
   "display_name": "Python 3",
   "language": "python",
   "name": "python3"
  },
  "language_info": {
   "codemirror_mode": {
    "name": "ipython",
    "version": 3
   },
   "file_extension": ".py",
   "mimetype": "text/x-python",
   "name": "python",
   "nbconvert_exporter": "python",
   "pygments_lexer": "ipython3",
   "version": "3.8.8"
  }
 },
 "nbformat": 4,
 "nbformat_minor": 5
}
