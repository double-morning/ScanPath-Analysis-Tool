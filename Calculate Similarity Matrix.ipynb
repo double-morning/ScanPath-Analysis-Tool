{
 "cells": [
  {
   "cell_type": "markdown",
   "id": "0239dd81",
   "metadata": {},
   "source": [
    "# Calculate Lenvenshtein Distance"
   ]
  },
  {
   "cell_type": "code",
   "execution_count": null,
   "id": "c03addd6",
   "metadata": {},
   "outputs": [],
   "source": [
    "from Levenshtein import *\n",
    "List1 = Target\n",
    "List2 = Target\n",
    "Matrix = np.zeros((len(List1),len(List2)),dtype=np.int)\n",
    "for i in range(0,len(List1)):\n",
    "    for j in range(0,len(List2)):\n",
    "        Matrix[i,j] = 30-distance(List1[i],List2[j])\n",
    "print(Matrix)"
   ]
  },
  {
   "cell_type": "markdown",
   "id": "75949037",
   "metadata": {},
   "source": [
    "# Calculate Similarity Matrix with Needle-Wunsch"
   ]
  },
  {
   "cell_type": "code",
   "execution_count": null,
   "id": "c2bc7941",
   "metadata": {},
   "outputs": [],
   "source": [
    "import needleman_distance\n",
    "    distance = 0\n",
    "    for i in range(max(len(aligned_1),len(aligned_2))):\n",
    "        if aligned_1[i]== aligned_2[i]:\n",
    "            distance = distance+1\n",
    "    #return distance\n",
    "    return (aligned_1,aligned_2)\n",
    "Target = short30\n",
    "List1 = Target\n",
    "List2 = Target\n",
    "Matrix = np.zeros((len(List1),len(List2)),dtype=np.int)\n",
    "for i in range(0,len(List1)):\n",
    "    for j in range(0,len(List2)):\n",
    "        Matrix[i,j] = needleman_distance1(List1[i],List2[j])\n",
    "print(Matrix)"
   ]
  }
 ],
 "metadata": {
  "kernelspec": {
   "display_name": "Python 3",
   "language": "python",
   "name": "python3"
  },
  "language_info": {
   "codemirror_mode": {
    "name": "ipython",
    "version": 3
   },
   "file_extension": ".py",
   "mimetype": "text/x-python",
   "name": "python",
   "nbconvert_exporter": "python",
   "pygments_lexer": "ipython3",
   "version": "3.8.8"
  }
 },
 "nbformat": 4,
 "nbformat_minor": 5
}
